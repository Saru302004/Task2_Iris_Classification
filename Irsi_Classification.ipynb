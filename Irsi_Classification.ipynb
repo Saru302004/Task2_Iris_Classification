{
 "cells": [
  {
   "cell_type": "code",
   "execution_count": 28,
   "metadata": {},
   "outputs": [],
   "source": [
    "import numpy as np\n",
    "import pandas as pd\n",
    "from sklearn.model_selection import train_test_split\n",
    "from sklearn.preprocessing import StandardScaler, LabelEncoder\n",
    "from sklearn.metrics import accuracy_score, classification_report\n",
    "from sklearn.datasets import load_iris\n",
    "import tensorflow as tf\n"
   ]
  },
  {
   "cell_type": "code",
   "execution_count": 29,
   "metadata": {},
   "outputs": [],
   "source": [
    "# Load Iris dataset\n",
    "iris = load_iris()\n",
    "X = iris.data\n",
    "y = iris.target"
   ]
  },
  {
   "cell_type": "code",
   "execution_count": 30,
   "metadata": {},
   "outputs": [],
   "source": [
    "#Convert target labels to one-hot encoding\n",
    "y_one_hot = tf.keras.utils.to_categorical(y, num_classes=3)"
   ]
  },
  {
   "cell_type": "code",
   "execution_count": 31,
   "metadata": {},
   "outputs": [],
   "source": [
    "# Split the dataset into training and testing sets\n",
    "X_train, X_test, y_train, y_test = train_test_split(X, y_one_hot, test_size=0.2, random_state=42)"
   ]
  },
  {
   "cell_type": "code",
   "execution_count": 32,
   "metadata": {},
   "outputs": [],
   "source": [
    "# Standardize the features\n",
    "scaler = StandardScaler()\n",
    "X_train = scaler.fit_transform(X_train)\n",
    "X_test = scaler.transform(X_test)"
   ]
  },
  {
   "cell_type": "code",
   "execution_count": 33,
   "metadata": {},
   "outputs": [],
   "source": [
    "# Build a simple neural network model\n",
    "model = tf.keras.Sequential([\n",
    "    tf.keras.layers.Dense(10, activation='relu', input_shape=(4,)),\n",
    "    tf.keras.layers.Dense(3, activation='softmax')\n",
    "])"
   ]
  },
  {
   "cell_type": "code",
   "execution_count": 34,
   "metadata": {},
   "outputs": [],
   "source": [
    "# Compile the model\n",
    "model.compile(optimizer='adam', loss='categorical_crossentropy', metrics=['accuracy'])"
   ]
  },
  {
   "cell_type": "code",
   "execution_count": 35,
   "metadata": {},
   "outputs": [
    {
     "name": "stdout",
     "output_type": "stream",
     "text": [
      "Epoch 1/50\n",
      "14/14 [==============================] - 1s 18ms/step - loss: 1.1345 - accuracy: 0.5370 - val_loss: 1.1475 - val_accuracy: 0.4167\n",
      "Epoch 2/50\n",
      "14/14 [==============================] - 0s 4ms/step - loss: 1.0828 - accuracy: 0.5833 - val_loss: 1.1103 - val_accuracy: 0.5000\n",
      "Epoch 3/50\n",
      "14/14 [==============================] - 0s 5ms/step - loss: 1.0358 - accuracy: 0.6019 - val_loss: 1.0732 - val_accuracy: 0.5833\n",
      "Epoch 4/50\n",
      "14/14 [==============================] - 0s 5ms/step - loss: 0.9876 - accuracy: 0.6019 - val_loss: 1.0385 - val_accuracy: 0.5833\n",
      "Epoch 5/50\n",
      "14/14 [==============================] - 0s 5ms/step - loss: 0.9429 - accuracy: 0.6019 - val_loss: 1.0050 - val_accuracy: 0.5833\n",
      "Epoch 6/50\n",
      "14/14 [==============================] - 0s 5ms/step - loss: 0.9013 - accuracy: 0.6111 - val_loss: 0.9738 - val_accuracy: 0.5833\n",
      "Epoch 7/50\n",
      "14/14 [==============================] - 0s 6ms/step - loss: 0.8610 - accuracy: 0.6111 - val_loss: 0.9439 - val_accuracy: 0.5833\n",
      "Epoch 8/50\n",
      "14/14 [==============================] - 0s 6ms/step - loss: 0.8227 - accuracy: 0.6111 - val_loss: 0.9147 - val_accuracy: 0.5833\n",
      "Epoch 9/50\n",
      "14/14 [==============================] - 0s 7ms/step - loss: 0.7868 - accuracy: 0.6574 - val_loss: 0.8863 - val_accuracy: 0.5833\n",
      "Epoch 10/50\n",
      "14/14 [==============================] - 0s 6ms/step - loss: 0.7550 - accuracy: 0.7037 - val_loss: 0.8587 - val_accuracy: 0.7500\n",
      "Epoch 11/50\n",
      "14/14 [==============================] - 0s 7ms/step - loss: 0.7235 - accuracy: 0.7315 - val_loss: 0.8332 - val_accuracy: 0.8333\n",
      "Epoch 12/50\n",
      "14/14 [==============================] - 0s 6ms/step - loss: 0.6961 - accuracy: 0.7685 - val_loss: 0.8082 - val_accuracy: 0.8333\n",
      "Epoch 13/50\n",
      "14/14 [==============================] - 0s 6ms/step - loss: 0.6699 - accuracy: 0.7593 - val_loss: 0.7835 - val_accuracy: 0.8333\n",
      "Epoch 14/50\n",
      "14/14 [==============================] - 0s 6ms/step - loss: 0.6464 - accuracy: 0.7685 - val_loss: 0.7601 - val_accuracy: 0.9167\n",
      "Epoch 15/50\n",
      "14/14 [==============================] - 0s 6ms/step - loss: 0.6241 - accuracy: 0.7870 - val_loss: 0.7378 - val_accuracy: 0.9167\n",
      "Epoch 16/50\n",
      "14/14 [==============================] - 0s 6ms/step - loss: 0.6031 - accuracy: 0.8056 - val_loss: 0.7172 - val_accuracy: 0.9167\n",
      "Epoch 17/50\n",
      "14/14 [==============================] - 0s 5ms/step - loss: 0.5845 - accuracy: 0.8241 - val_loss: 0.6956 - val_accuracy: 0.9167\n",
      "Epoch 18/50\n",
      "14/14 [==============================] - 0s 6ms/step - loss: 0.5665 - accuracy: 0.8333 - val_loss: 0.6759 - val_accuracy: 0.9167\n",
      "Epoch 19/50\n",
      "14/14 [==============================] - 0s 6ms/step - loss: 0.5499 - accuracy: 0.8333 - val_loss: 0.6573 - val_accuracy: 0.9167\n",
      "Epoch 20/50\n",
      "14/14 [==============================] - 0s 6ms/step - loss: 0.5349 - accuracy: 0.8333 - val_loss: 0.6390 - val_accuracy: 0.9167\n",
      "Epoch 21/50\n",
      "14/14 [==============================] - 0s 6ms/step - loss: 0.5200 - accuracy: 0.8148 - val_loss: 0.6228 - val_accuracy: 0.9167\n",
      "Epoch 22/50\n",
      "14/14 [==============================] - 0s 5ms/step - loss: 0.5070 - accuracy: 0.8148 - val_loss: 0.6075 - val_accuracy: 0.9167\n",
      "Epoch 23/50\n",
      "14/14 [==============================] - 0s 5ms/step - loss: 0.4950 - accuracy: 0.8241 - val_loss: 0.5923 - val_accuracy: 0.9167\n",
      "Epoch 24/50\n",
      "14/14 [==============================] - 0s 5ms/step - loss: 0.4831 - accuracy: 0.8241 - val_loss: 0.5785 - val_accuracy: 0.9167\n",
      "Epoch 25/50\n",
      "14/14 [==============================] - 0s 5ms/step - loss: 0.4725 - accuracy: 0.8333 - val_loss: 0.5632 - val_accuracy: 0.9167\n",
      "Epoch 26/50\n",
      "14/14 [==============================] - 0s 5ms/step - loss: 0.4616 - accuracy: 0.8333 - val_loss: 0.5506 - val_accuracy: 0.9167\n",
      "Epoch 27/50\n",
      "14/14 [==============================] - 0s 5ms/step - loss: 0.4514 - accuracy: 0.8333 - val_loss: 0.5388 - val_accuracy: 0.9167\n",
      "Epoch 28/50\n",
      "14/14 [==============================] - 0s 5ms/step - loss: 0.4416 - accuracy: 0.8426 - val_loss: 0.5260 - val_accuracy: 0.9167\n",
      "Epoch 29/50\n",
      "14/14 [==============================] - 0s 5ms/step - loss: 0.4324 - accuracy: 0.8426 - val_loss: 0.5143 - val_accuracy: 0.9167\n",
      "Epoch 30/50\n",
      "14/14 [==============================] - 0s 9ms/step - loss: 0.4236 - accuracy: 0.8426 - val_loss: 0.5028 - val_accuracy: 0.9167\n",
      "Epoch 31/50\n",
      "14/14 [==============================] - 0s 5ms/step - loss: 0.4155 - accuracy: 0.8519 - val_loss: 0.4920 - val_accuracy: 0.9167\n",
      "Epoch 32/50\n",
      "14/14 [==============================] - 0s 5ms/step - loss: 0.4078 - accuracy: 0.8611 - val_loss: 0.4812 - val_accuracy: 0.9167\n",
      "Epoch 33/50\n",
      "14/14 [==============================] - 0s 5ms/step - loss: 0.3996 - accuracy: 0.8704 - val_loss: 0.4706 - val_accuracy: 0.9167\n",
      "Epoch 34/50\n",
      "14/14 [==============================] - 0s 5ms/step - loss: 0.3922 - accuracy: 0.8704 - val_loss: 0.4616 - val_accuracy: 0.9167\n",
      "Epoch 35/50\n",
      "14/14 [==============================] - 0s 6ms/step - loss: 0.3858 - accuracy: 0.8611 - val_loss: 0.4513 - val_accuracy: 0.9167\n",
      "Epoch 36/50\n",
      "14/14 [==============================] - 0s 6ms/step - loss: 0.3782 - accuracy: 0.8704 - val_loss: 0.4434 - val_accuracy: 0.9167\n",
      "Epoch 37/50\n",
      "14/14 [==============================] - 0s 4ms/step - loss: 0.3719 - accuracy: 0.8704 - val_loss: 0.4340 - val_accuracy: 0.9167\n",
      "Epoch 38/50\n",
      "14/14 [==============================] - 0s 5ms/step - loss: 0.3653 - accuracy: 0.8704 - val_loss: 0.4259 - val_accuracy: 0.9167\n",
      "Epoch 39/50\n",
      "14/14 [==============================] - 0s 5ms/step - loss: 0.3588 - accuracy: 0.8704 - val_loss: 0.4196 - val_accuracy: 0.9167\n",
      "Epoch 40/50\n",
      "14/14 [==============================] - 0s 6ms/step - loss: 0.3527 - accuracy: 0.8704 - val_loss: 0.4119 - val_accuracy: 0.9167\n",
      "Epoch 41/50\n",
      "14/14 [==============================] - 0s 5ms/step - loss: 0.3468 - accuracy: 0.8796 - val_loss: 0.4057 - val_accuracy: 0.9167\n",
      "Epoch 42/50\n",
      "14/14 [==============================] - 0s 5ms/step - loss: 0.3412 - accuracy: 0.8796 - val_loss: 0.3990 - val_accuracy: 0.9167\n",
      "Epoch 43/50\n",
      "14/14 [==============================] - 0s 4ms/step - loss: 0.3354 - accuracy: 0.8796 - val_loss: 0.3920 - val_accuracy: 0.9167\n",
      "Epoch 44/50\n",
      "14/14 [==============================] - 0s 5ms/step - loss: 0.3296 - accuracy: 0.8796 - val_loss: 0.3859 - val_accuracy: 0.9167\n",
      "Epoch 45/50\n",
      "14/14 [==============================] - 0s 5ms/step - loss: 0.3240 - accuracy: 0.8796 - val_loss: 0.3801 - val_accuracy: 0.9167\n",
      "Epoch 46/50\n",
      "14/14 [==============================] - 0s 5ms/step - loss: 0.3186 - accuracy: 0.8889 - val_loss: 0.3746 - val_accuracy: 0.9167\n",
      "Epoch 47/50\n",
      "14/14 [==============================] - 0s 5ms/step - loss: 0.3129 - accuracy: 0.8889 - val_loss: 0.3688 - val_accuracy: 0.9167\n",
      "Epoch 48/50\n",
      "14/14 [==============================] - 0s 5ms/step - loss: 0.3077 - accuracy: 0.8889 - val_loss: 0.3629 - val_accuracy: 0.9167\n",
      "Epoch 49/50\n",
      "14/14 [==============================] - 0s 6ms/step - loss: 0.3022 - accuracy: 0.8981 - val_loss: 0.3569 - val_accuracy: 0.9167\n",
      "Epoch 50/50\n",
      "14/14 [==============================] - 0s 5ms/step - loss: 0.2969 - accuracy: 0.8981 - val_loss: 0.3534 - val_accuracy: 0.9167\n"
     ]
    },
    {
     "data": {
      "text/plain": [
       "<keras.src.callbacks.History at 0x21c290d1810>"
      ]
     },
     "execution_count": 35,
     "metadata": {},
     "output_type": "execute_result"
    }
   ],
   "source": [
    "#Train the model\n",
    "model.fit(X_train, y_train, epochs=50, batch_size=8, validation_split=0.1, verbose=1)"
   ]
  },
  {
   "cell_type": "code",
   "execution_count": 36,
   "metadata": {},
   "outputs": [
    {
     "name": "stdout",
     "output_type": "stream",
     "text": [
      "1/1 [==============================] - 0s 66ms/step\n",
      "Accuracy: 0.9333333333333333\n"
     ]
    }
   ],
   "source": [
    "# Evaluate the model on the test set\n",
    "y_pred = model.predict(X_test)\n",
    "y_pred_classes = np.argmax(y_pred, axis=1)\n",
    "y_test_classes = np.argmax(y_test, axis=1)\n",
    "\n",
    "accuracy = accuracy_score(y_test_classes, y_pred_classes)\n",
    "print(f'Accuracy: {accuracy}')"
   ]
  },
  {
   "cell_type": "code",
   "execution_count": 37,
   "metadata": {},
   "outputs": [
    {
     "name": "stdout",
     "output_type": "stream",
     "text": [
      "Classification Report:\n",
      "              precision    recall  f1-score   support\n",
      "\n",
      "      setosa       1.00      1.00      1.00        10\n",
      "  versicolor       1.00      0.78      0.88         9\n",
      "   virginica       0.85      1.00      0.92        11\n",
      "\n",
      "    accuracy                           0.93        30\n",
      "   macro avg       0.95      0.93      0.93        30\n",
      "weighted avg       0.94      0.93      0.93        30\n",
      "\n"
     ]
    }
   ],
   "source": [
    "# Display classification report\n",
    "print('Classification Report:')\n",
    "print(classification_report(y_test_classes, y_pred_classes, target_names=iris.target_names))"
   ]
  }
 ],
 "metadata": {
  "kernelspec": {
   "display_name": "Python 3",
   "language": "python",
   "name": "python3"
  },
  "language_info": {
   "codemirror_mode": {
    "name": "ipython",
    "version": 3
   },
   "file_extension": ".py",
   "mimetype": "text/x-python",
   "name": "python",
   "nbconvert_exporter": "python",
   "pygments_lexer": "ipython3",
   "version": "3.11.5"
  }
 },
 "nbformat": 4,
 "nbformat_minor": 2
}
